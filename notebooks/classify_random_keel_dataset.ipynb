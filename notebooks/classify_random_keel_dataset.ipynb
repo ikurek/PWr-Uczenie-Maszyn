{
 "cells": [
  {
   "cell_type": "markdown",
   "metadata": {
    "collapsed": true,
    "pycharm": {
     "name": "#%% md\n"
    }
   },
   "source": [
    "### Import stuff"
   ]
  },
  {
   "cell_type": "code",
   "execution_count": 10,
   "outputs": [],
   "source": [
    "import random\n",
    "from src.read_data import DataReader\n",
    "from src.classification import CommonClassification"
   ],
   "metadata": {
    "collapsed": false,
    "pycharm": {
     "name": "#%% python\n",
     "is_executing": false
    }
   }
  },
  {
   "cell_type": "markdown",
   "source": [
    "### Setup parameters"
   ],
   "metadata": {
    "collapsed": false
   }
  },
  {
   "cell_type": "code",
   "execution_count": 11,
   "outputs": [],
   "source": [
    "DATA_DIR = \"../data\"\n",
    "TRAIN_TEST_SPLIT_RATIO = 0.25"
   ],
   "metadata": {
    "collapsed": false,
    "pycharm": {
     "name": "#%% python\n",
     "is_executing": false
    }
   }
  },
  {
   "cell_type": "markdown",
   "source": [
    "### Create required objects"
   ],
   "metadata": {
    "collapsed": false,
    "pycharm": {
     "name": "#%% md\n"
    }
   }
  },
  {
   "cell_type": "code",
   "execution_count": 12,
   "outputs": [],
   "source": [
    "data_reader = DataReader(DATA_DIR)\n",
    "common_classifier = CommonClassification()"
   ],
   "metadata": {
    "collapsed": false,
    "pycharm": {
     "name": "#%% python\n",
     "is_executing": false
    }
   }
  },
  {
   "cell_type": "markdown",
   "source": [
    "### Load all KEEL datasets from directory"
   ],
   "metadata": {
    "collapsed": false
   }
  },
  {
   "cell_type": "code",
   "execution_count": 13,
   "outputs": [
    {
     "name": "stdout",
     "text": [
      "Read KEEL Datasets: 9\n"
     ],
     "output_type": "stream"
    }
   ],
   "source": [
    "keel_data = data_reader.read_keel_dat_directory()\n",
    "print('Read KEEL Datasets: %s' % len(keel_data))"
   ],
   "metadata": {
    "collapsed": false,
    "pycharm": {
     "name": "#%% python\n",
     "is_executing": false
    }
   }
  },
  {
   "cell_type": "markdown",
   "source": [
    "### Select random KEEL dataset"
   ],
   "metadata": {
    "collapsed": false
   }
  },
  {
   "cell_type": "code",
   "execution_count": 14,
   "outputs": [
    {
     "name": "stdout",
     "text": [
      "Keel Dataset Info:\n",
      "==> File Name: led7digit-0-2-4-5-6-7-8-9_vs_1.dat\n",
      "==> Size: 442\n",
      "==> Features: 7\n",
      "==> Imbalance Ratio: 10.945945945945946\n",
      "==> Sample Entry: [0. 0. 1. 1. 0. 0. 1. 0.]\n"
     ],
     "output_type": "stream"
    }
   ],
   "source": [
    "random_keel_data = random.choice(keel_data)\n",
    "random_keel_data.print_info()"
   ],
   "metadata": {
    "collapsed": false,
    "pycharm": {
     "name": "#%% python\n",
     "is_executing": false
    }
   }
  },
  {
   "cell_type": "markdown",
   "source": [
    "### Convert KEEL data to testable collections"
   ],
   "metadata": {
    "collapsed": false,
    "pycharm": {
     "name": "#%% md\n"
    }
   }
  },
  {
   "cell_type": "code",
   "execution_count": 15,
   "outputs": [
    {
     "name": "stdout",
     "text": [
      "Keel Testable Dataset Info:\n",
      "==> File Name: led7digit-0-2-4-5-6-7-8-9_vs_1.dat\n",
      "==> Size: 442\n",
      "==> Features: 7\n",
      "==> Classes: 2\n",
      "==> Test-Train Split Ratio: 0.25\n",
      "==> Train Size: 331\n",
      "==> Test Size: 111\n"
     ],
     "output_type": "stream"
    }
   ],
   "source": [
    "random_testable_keel_data = random_keel_data.as_testable(test_size=TRAIN_TEST_SPLIT_RATIO)\n",
    "random_testable_keel_data.print_info()"
   ],
   "metadata": {
    "collapsed": false,
    "pycharm": {
     "name": "#%% python\n",
     "is_executing": false
    }
   }
  },
  {
   "cell_type": "markdown",
   "source": [
    "### Classify with Naive Bayes Gaussian Classifier"
   ],
   "metadata": {
    "collapsed": false,
    "pycharm": {
     "name": "#%% md\n"
    }
   }
  },
  {
   "cell_type": "code",
   "execution_count": 16,
   "outputs": [
    {
     "name": "stdout",
     "text": [
      "Accuracy: 0.9099099099099099\n"
     ],
     "output_type": "stream"
    }
   ],
   "source": [
    "classification_result = common_classifier.naive_bayes_gaussian_classification(random_testable_keel_data)\n",
    "print('Accuracy: %s' % classification_result.accuracy)"
   ],
   "metadata": {
    "collapsed": false,
    "pycharm": {
     "name": "#%% python\n",
     "is_executing": false
    }
   }
  },
  {
   "cell_type": "markdown",
   "source": [
    "### Classify with Decision Tree Classifier"
   ],
   "metadata": {
    "collapsed": false
   }
  },
  {
   "cell_type": "code",
   "execution_count": 17,
   "outputs": [
    {
     "name": "stdout",
     "text": [
      "Accuracy: 0.963963963963964\n"
     ],
     "output_type": "stream"
    }
   ],
   "source": [
    "classification_result = common_classifier.decision_tree_classification(random_testable_keel_data)\n",
    "print('Accuracy: %s' % classification_result.accuracy)"
   ],
   "metadata": {
    "collapsed": false,
    "pycharm": {
     "name": "#%% python\n",
     "is_executing": false
    }
   }
  },
  {
   "cell_type": "markdown",
   "source": [
    "### Classify with Random Forest Classifier\n"
   ],
   "metadata": {
    "collapsed": false
   }
  },
  {
   "cell_type": "code",
   "execution_count": 18,
   "outputs": [
    {
     "name": "stdout",
     "text": [
      "Accuracy: 0.963963963963964\n"
     ],
     "output_type": "stream"
    }
   ],
   "source": [
    "classification_result = common_classifier.random_forest_classification(random_testable_keel_data)\n",
    "print('Accuracy: %s' % classification_result.accuracy)"
   ],
   "metadata": {
    "collapsed": false,
    "pycharm": {
     "name": "#%% python\n",
     "is_executing": false
    }
   }
  }
 ],
 "metadata": {
  "kernelspec": {
   "display_name": "Python 3",
   "language": "python",
   "name": "python3"
  },
  "language_info": {
   "codemirror_mode": {
    "name": "ipython",
    "version": 2
   },
   "file_extension": ".py",
   "mimetype": "text/x-python",
   "name": "python",
   "nbconvert_exporter": "python",
   "pygments_lexer": "ipython2",
   "version": "2.7.6"
  },
  "pycharm": {
   "stem_cell": {
    "cell_type": "raw",
    "source": [],
    "metadata": {
     "collapsed": false
    }
   }
  }
 },
 "nbformat": 4,
 "nbformat_minor": 0
}