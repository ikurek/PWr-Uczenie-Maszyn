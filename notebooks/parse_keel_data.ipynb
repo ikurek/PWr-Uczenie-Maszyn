{
 "cells": [
  {
   "cell_type": "markdown",
   "source": [
    "### Import stuff"
   ],
   "metadata": {
    "collapsed": false
   }
  },
  {
   "cell_type": "code",
   "execution_count": 4,
   "outputs": [],
   "source": [
    "from src.read_data import DataReader"
   ],
   "metadata": {
    "collapsed": false,
    "pycharm": {
     "name": "#%% python\n",
     "is_executing": false
    }
   }
  },
  {
   "cell_type": "markdown",
   "source": [
    "### Setup parameters"
   ],
   "metadata": {
    "collapsed": false,
    "pycharm": {
     "name": "#%% md\n"
    }
   }
  },
  {
   "cell_type": "code",
   "execution_count": 5,
   "outputs": [],
   "source": [
    "DATA_DIR = \"../data\"\n",
    "data_reader = DataReader(DATA_DIR)"
   ],
   "metadata": {
    "collapsed": false,
    "pycharm": {
     "name": "#%% python\n",
     "is_executing": false
    }
   }
  },
  {
   "cell_type": "markdown",
   "source": [
    "### Load all KEEL datasets from directory"
   ],
   "metadata": {
    "collapsed": false,
    "pycharm": {
     "name": "#%% md\n"
    }
   }
  },
  {
   "cell_type": "code",
   "execution_count": 6,
   "outputs": [],
   "source": [
    "keel_data = data_reader.read_keel_dat_directory()"
   ],
   "metadata": {
    "collapsed": false,
    "pycharm": {
     "name": "#%% python\n",
     "is_executing": false
    }
   }
  },
  {
   "cell_type": "markdown",
   "source": [
    "### Print KEEL data info"
   ],
   "metadata": {
    "collapsed": false,
    "pycharm": {
     "name": "#%% md\n"
    }
   }
  },
  {
   "cell_type": "code",
   "execution_count": 8,
   "outputs": [
    {
     "name": "stdout",
     "text": [
      "Keel yeast4.dat Dataset Info:\n",
      "==> Rows: 1484\n",
      "==> Features: 8\n",
      "==> Imbalance ratio: 28.098039215686274\n",
      "==> Sample entry: [0.58 0.61 0.47 0.13 0.5  0.   0.48 0.22 0.  ]\n",
      "\n",
      "Keel yeast5.dat Dataset Info:\n",
      "==> Rows: 1484\n",
      "==> Features: 8\n",
      "==> Imbalance ratio: 32.72727272727273\n",
      "==> Sample entry: [0.58 0.61 0.47 0.13 0.5  0.   0.48 0.22 0.  ]\n",
      "\n",
      "Keel yeast-0-2-5-7-9_vs_3-6-8.dat Dataset Info:\n",
      "==> Rows: 1004\n",
      "==> Features: 8\n",
      "==> Imbalance ratio: 9.141414141414142\n",
      "==> Sample entry: [0.58 0.61 0.47 0.13 0.5  0.   0.48 0.22 0.  ]\n",
      "\n",
      "Keel yeast6.dat Dataset Info:\n",
      "==> Rows: 1484\n",
      "==> Features: 8\n",
      "==> Imbalance ratio: 41.4\n",
      "==> Sample entry: [0.58 0.61 0.47 0.13 0.5  0.   0.48 0.22 0.  ]\n",
      "\n",
      "Keel yeast-0-2-5-6_vs_3-7-8-9.dat Dataset Info:\n",
      "==> Rows: 1004\n",
      "==> Features: 8\n",
      "==> Imbalance ratio: 9.141414141414142\n",
      "==> Sample entry: [0.58 0.61 0.47 0.13 0.5  0.   0.48 0.22 0.  ]\n",
      "\n",
      "Keel led7digit-0-2-4-5-6-7-8-9_vs_1.dat Dataset Info:\n",
      "==> Rows: 442\n",
      "==> Features: 7\n",
      "==> Imbalance ratio: 10.945945945945946\n",
      "==> Sample entry: [1. 1. 1. 0. 0. 1. 1. 0.]\n",
      "\n",
      "Keel ecoli-0-1-4-6_vs_5.dat Dataset Info:\n",
      "==> Rows: 278\n",
      "==> Features: 6\n",
      "==> Imbalance ratio: 12.9\n",
      "==> Sample entry: [56.  4. 48. 49. 37. 46.  0.]\n",
      "\n",
      "Keel ecoli-0-1-4-7_vs_2-3-5-6.dat Dataset Info:\n",
      "==> Rows: 335\n",
      "==> Features: 7\n",
      "==> Imbalance ratio: 10.551724137931034\n",
      "==> Sample entry: [ 7.  4. 48.  5. 54. 35. 44.  0.]\n",
      "\n",
      "Keel ecoli-0-1-4-7_vs_5-6.dat Dataset Info:\n",
      "==> Rows: 330\n",
      "==> Features: 6\n",
      "==> Imbalance ratio: 12.2\n",
      "==> Sample entry: [56.  4. 48. 49. 37. 46.  0.]\n",
      "\n"
     ],
     "output_type": "stream"
    }
   ],
   "source": [
    "for entry in keel_data:\n",
    "    entry.print_info()\n",
    "    print()"
   ],
   "metadata": {
    "collapsed": false,
    "pycharm": {
     "name": "#%% python\n",
     "is_executing": false
    }
   }
  }
 ],
 "metadata": {
  "kernelspec": {
   "display_name": "Python 3",
   "language": "python",
   "name": "python3"
  },
  "language_info": {
   "codemirror_mode": {
    "name": "ipython",
    "version": 2
   },
   "file_extension": ".py",
   "mimetype": "text/x-python",
   "name": "python",
   "nbconvert_exporter": "python",
   "pygments_lexer": "ipython2",
   "version": "2.7.6"
  },
  "pycharm": {
   "stem_cell": {
    "cell_type": "raw",
    "source": [],
    "metadata": {
     "collapsed": false
    }
   }
  }
 },
 "nbformat": 4,
 "nbformat_minor": 0
}